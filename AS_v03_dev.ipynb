{
 "cells": [
  {
   "cell_type": "markdown",
   "metadata": {},
   "source": [
    "# Reserve prices for revenue increase"
   ]
  },
  {
   "cell_type": "code",
   "execution_count": 1,
   "metadata": {},
   "outputs": [],
   "source": [
    "import numpy as np\n",
    "import pandas as pd\n",
    "import matplotlib.pyplot as plt\n",
    "from scipy import stats, optimize\n",
    "import seaborn as sns"
   ]
  },
  {
   "cell_type": "code",
   "execution_count": 30,
   "metadata": {},
   "outputs": [],
   "source": [
    "N_rounds = 1000\n",
    "N_objects = 100\n",
    "N_bidders = 130\n",
    "\n",
    "budgets = np.array([  30.,   50.,   80.,  100.,  120.,  200.,  300.,  500., 1000.])\n",
    "budgets_p = np.ones(9)/9\n",
    "budgets_init = np.array([np.random.choice(budgets, p=budgets_p) for _ in range(N_bidders)])\n",
    "\n",
    "fees = np.array([0, 0.3, 0.36, 0.68])\n",
    "fees_p = np.array([0.36, 0.14, 0.30, 0.2])\n",
    "fees_init = np.array([np.random.choice(fees, p=fees_p) for i in range(N_objects)])\n",
    "\n",
    "auctioned_objects = np.array([AuctionedObject(i, 2.5, np.inf, fee=fees_init[i]) for i in range(N_objects)])\n",
    "auctioneer = Auctioneer(auctioned_objects, x0 = np.ones(N_objects)*0)\n",
    "bidders = np.array([SimpleBidder(budget=budgets_init[i]) for i in range(N_bidders)])"
   ]
  },
  {
   "cell_type": "code",
   "execution_count": 31,
   "metadata": {},
   "outputs": [],
   "source": [
    "def myerson_rp(house):\n",
    "    x0 = house.auctioneer.x0[house.auctioned_object.id_]\n",
    "    dist = stats.lognorm(s=0.4, loc=-7, scale=16)\n",
    "    fn = lambda r: r-(1-dist.cdf(r))/dist.pdf(r)-x0\n",
    "    r_star = optimize.fsolve(fn, x0=0.3)\n",
    "    return r_star\n",
    "\n",
    "def rp_fees(house):\n",
    "    obj_id = house.auctioned_object.id_\n",
    "    x0 = house.auctioneer.x0[obj_id]\n",
    "    fee = house.auctioned_object.fee\n",
    "    r = fee*np.mean([house.winning_bid , house.second_bid]) + (1-fee)*x0\n",
    "    return r \n",
    "\n",
    "house = AuctionHouse(N_rounds, \n",
    "                     auctioneer, \n",
    "                     bidders, \n",
    "                     rp_policy=myerson_rp\n",
    "                    )\n",
    "\n",
    "house.run()"
   ]
  },
  {
   "cell_type": "code",
   "execution_count": 32,
   "metadata": {},
   "outputs": [],
   "source": [
    "df = house.bidder_tracker.make_dataFrame()"
   ]
  },
  {
   "cell_type": "code",
   "execution_count": 33,
   "metadata": {},
   "outputs": [
    {
     "data": {
      "text/plain": [
       "<matplotlib.axes._subplots.AxesSubplot at 0x1ed025c8130>"
      ]
     },
     "execution_count": 33,
     "metadata": {},
     "output_type": "execute_result"
    },
    {
     "data": {
      "image/png": "[encoded data removed]",
      "text/plain": [
       "<Figure size 1008x288 with 2 Axes>"
      ]
     },
     "metadata": {
      "needs_background": "light"
     },
     "output_type": "display_data"
    }
   ],
   "source": [
    "fig, (ax1, ax2) = plt.subplots(1,2,figsize=(14,4))\n",
    "df['bids'].mean(axis=1).plot(ax=ax1)\n",
    "df['budgets'].mean(axis=1).plot(ax=ax2)"
   ]
  },
  {
   "cell_type": "code",
   "execution_count": 36,
   "metadata": {},
   "outputs": [
    {
     "data": {
      "text/html": [
       "<div>\n",
       "<style scoped>\n",
       "    .dataframe tbody tr th:only-of-type {\n",
       "        vertical-align: middle;\n",
       "    }\n",
       "\n",
       "    .dataframe tbody tr th {\n",
       "        vertical-align: top;\n",
       "    }\n",
       "\n",
       "    .dataframe thead th {\n",
       "        text-align: right;\n",
       "    }\n",
       "</style>\n",
       "<table border=\"1\" class=\"dataframe\">\n",
       "  <thead>\n",
       "    <tr style=\"text-align: right;\">\n",
       "      <th></th>\n",
       "      <th>object_id</th>\n",
       "      <th>winner</th>\n",
       "      <th>winning_bid</th>\n",
       "      <th>second_bid</th>\n",
       "      <th>payment</th>\n",
       "      <th>reserve_price</th>\n",
       "      <th>fee</th>\n",
       "    </tr>\n",
       "    <tr>\n",
       "      <th>auction_round</th>\n",
       "      <th></th>\n",
       "      <th></th>\n",
       "      <th></th>\n",
       "      <th></th>\n",
       "      <th></th>\n",
       "      <th></th>\n",
       "      <th></th>\n",
       "    </tr>\n",
       "  </thead>\n",
       "  <tbody>\n",
       "    <tr>\n",
       "      <th>0</th>\n",
       "      <td>93.0</td>\n",
       "      <td>36.0</td>\n",
       "      <td>37.115181</td>\n",
       "      <td>31.154306</td>\n",
       "      <td>31.154306</td>\n",
       "      <td>8.366133</td>\n",
       "      <td>0.00</td>\n",
       "    </tr>\n",
       "    <tr>\n",
       "      <th>1</th>\n",
       "      <td>84.0</td>\n",
       "      <td>9.0</td>\n",
       "      <td>47.605618</td>\n",
       "      <td>46.834529</td>\n",
       "      <td>46.834529</td>\n",
       "      <td>8.366133</td>\n",
       "      <td>0.68</td>\n",
       "    </tr>\n",
       "    <tr>\n",
       "      <th>2</th>\n",
       "      <td>51.0</td>\n",
       "      <td>44.0</td>\n",
       "      <td>43.786502</td>\n",
       "      <td>42.228301</td>\n",
       "      <td>42.228301</td>\n",
       "      <td>8.366133</td>\n",
       "      <td>0.36</td>\n",
       "    </tr>\n",
       "    <tr>\n",
       "      <th>3</th>\n",
       "      <td>64.0</td>\n",
       "      <td>44.0</td>\n",
       "      <td>35.805688</td>\n",
       "      <td>33.265402</td>\n",
       "      <td>33.265402</td>\n",
       "      <td>8.366133</td>\n",
       "      <td>0.36</td>\n",
       "    </tr>\n",
       "    <tr>\n",
       "      <th>4</th>\n",
       "      <td>20.0</td>\n",
       "      <td>44.0</td>\n",
       "      <td>34.976387</td>\n",
       "      <td>32.668874</td>\n",
       "      <td>32.668874</td>\n",
       "      <td>8.366133</td>\n",
       "      <td>0.00</td>\n",
       "    </tr>\n",
       "    <tr>\n",
       "      <th>...</th>\n",
       "      <td>...</td>\n",
       "      <td>...</td>\n",
       "      <td>...</td>\n",
       "      <td>...</td>\n",
       "      <td>...</td>\n",
       "      <td>...</td>\n",
       "      <td>...</td>\n",
       "    </tr>\n",
       "    <tr>\n",
       "      <th>995</th>\n",
       "      <td>0.0</td>\n",
       "      <td>13.0</td>\n",
       "      <td>32.975386</td>\n",
       "      <td>28.953621</td>\n",
       "      <td>28.953621</td>\n",
       "      <td>8.366133</td>\n",
       "      <td>0.00</td>\n",
       "    </tr>\n",
       "    <tr>\n",
       "      <th>996</th>\n",
       "      <td>7.0</td>\n",
       "      <td>13.0</td>\n",
       "      <td>18.403816</td>\n",
       "      <td>17.737587</td>\n",
       "      <td>17.737587</td>\n",
       "      <td>8.366133</td>\n",
       "      <td>0.30</td>\n",
       "    </tr>\n",
       "    <tr>\n",
       "      <th>997</th>\n",
       "      <td>94.0</td>\n",
       "      <td>24.0</td>\n",
       "      <td>31.155971</td>\n",
       "      <td>22.451831</td>\n",
       "      <td>22.451831</td>\n",
       "      <td>8.366133</td>\n",
       "      <td>0.36</td>\n",
       "    </tr>\n",
       "    <tr>\n",
       "      <th>998</th>\n",
       "      <td>51.0</td>\n",
       "      <td>71.0</td>\n",
       "      <td>27.842961</td>\n",
       "      <td>18.973133</td>\n",
       "      <td>18.973133</td>\n",
       "      <td>8.366133</td>\n",
       "      <td>0.36</td>\n",
       "    </tr>\n",
       "    <tr>\n",
       "      <th>999</th>\n",
       "      <td>8.0</td>\n",
       "      <td>26.0</td>\n",
       "      <td>25.244385</td>\n",
       "      <td>19.808451</td>\n",
       "      <td>19.808451</td>\n",
       "      <td>8.366133</td>\n",
       "      <td>0.36</td>\n",
       "    </tr>\n",
       "  </tbody>\n",
       "</table>\n",
       "<p>1000 rows × 7 columns</p>\n",
       "</div>"
      ],
      "text/plain": [
       "               object_id  winner  winning_bid  second_bid    payment  \\\n",
       "auction_round                                                          \n",
       "0                   93.0    36.0    37.115181   31.154306  31.154306   \n",
       "1                   84.0     9.0    47.605618   46.834529  46.834529   \n",
       "2                   51.0    44.0    43.786502   42.228301  42.228301   \n",
       "3                   64.0    44.0    35.805688   33.265402  33.265402   \n",
       "4                   20.0    44.0    34.976387   32.668874  32.668874   \n",
       "...                  ...     ...          ...         ...        ...   \n",
       "995                  0.0    13.0    32.975386   28.953621  28.953621   \n",
       "996                  7.0    13.0    18.403816   17.737587  17.737587   \n",
       "997                 94.0    24.0    31.155971   22.451831  22.451831   \n",
       "998                 51.0    71.0    27.842961   18.973133  18.973133   \n",
       "999                  8.0    26.0    25.244385   19.808451  19.808451   \n",
       "\n",
       "               reserve_price   fee  \n",
       "auction_round                       \n",
       "0                   8.366133  0.00  \n",
       "1                   8.366133  0.68  \n",
       "2                   8.366133  0.36  \n",
       "3                   8.366133  0.36  \n",
       "4                   8.366133  0.00  \n",
       "...                      ...   ...  \n",
       "995                 8.366133  0.00  \n",
       "996                 8.366133  0.30  \n",
       "997                 8.366133  0.36  \n",
       "998                 8.366133  0.36  \n",
       "999                 8.366133  0.36  \n",
       "\n",
       "[1000 rows x 7 columns]"
      ]
     },
     "execution_count": 36,
     "metadata": {},
     "output_type": "execute_result"
    }
   ],
   "source": [
    "auc_df = house.auction_tracker.make_dataFrame()\n",
    "auc_df"
   ]
  },
  {
   "cell_type": "markdown",
   "metadata": {},
   "source": [
    "# Throttling"
   ]
  },
  {
   "cell_type": "code",
   "execution_count": 1,
   "metadata": {},
   "outputs": [],
   "source": [
    "import numpy as np\n",
    "import pandas as pd\n",
    "import matplotlib.pyplot as plt\n",
    "from scipy import stats\n",
    "import seaborn as sns\n",
    "\n",
    "from AuctionSimulator.Agents.Bidders import SimpleBidder\n",
    "from AuctionSimulator.Agents.AuctionedObject import AuctionedObject, Auctioneer\n",
    "from AuctionSimulator.Controllers import AuctionHouse\n",
    "\n",
    "from AuctionSimulator.Policies.Throttling import Throttling"
   ]
  },
  {
   "cell_type": "markdown",
   "metadata": {},
   "source": [
    "## test single policy"
   ]
  },
  {
   "cell_type": "code",
   "execution_count": 10,
   "metadata": {},
   "outputs": [],
   "source": [
    "N_rounds = 1000\n",
    "N_objects = 100\n",
    "N_bidders = 130\n",
    "\n",
    "budgets = np.array([  30.,   50.,   80.,  100.,  120.,  200.,  300.,  500., 1000.])\n",
    "budgets_p = np.ones(9)/9\n",
    "budgets_init = np.array([np.random.choice(budgets, p=budgets_p) for _ in range(N_bidders)])\n",
    "\n",
    "fees = np.array([0, 0.3, 0.36, 0.68])\n",
    "fees_p = np.array([0.36, 0.14, 0.30, 0.2])\n",
    "fees_init = np.array([np.random.choice(fees, p=fees_p) for i in range(N_objects)])\n",
    "\n",
    "throttling = Throttling(N_rounds, budgets_init, planning='uniform', probability='linear',\n",
    "                        probability_kwargs={'floor': 0.})"
   ]
  },
  {
   "cell_type": "code",
   "execution_count": 12,
   "metadata": {},
   "outputs": [],
   "source": [
    "auctioned_objects = np.array([AuctionedObject(i, 2, np.inf, fee=fees_init[i]) for i in range(N_objects)])\n",
    "auctioneer = Auctioneer(auctioned_objects)\n",
    "bidders = np.array([SimpleBidder(budget=budgets_init[i]) for i in range(N_bidders)])\n",
    "\n",
    "house = AuctionHouse(N_rounds, \n",
    "                     auctioneer, \n",
    "                     bidders, \n",
    "                     rp_policy=None,\n",
    "                     throttling=throttling\n",
    "                    )\n",
    "\n",
    "house.run()"
   ]
  },
  {
   "cell_type": "code",
   "execution_count": 13,
   "metadata": {},
   "outputs": [],
   "source": [
    "df = house.bidder_tracker.make_dataframe()"
   ]
  },
  {
   "cell_type": "code",
   "execution_count": 14,
   "metadata": {},
   "outputs": [
    {
     "data": {
      "text/plain": [
       "<matplotlib.axes._subplots.AxesSubplot at 0x26a980ee4c0>"
      ]
     },
     "execution_count": 14,
     "metadata": {},
     "output_type": "execute_result"
    },
    {
     "data": {
      "image/png": "[encoded data removed]",
      "text/plain": [
       "<Figure size 432x288 with 1 Axes>"
      ]
     },
     "metadata": {
      "needs_background": "light"
     },
     "output_type": "display_data"
    }
   ],
   "source": [
    "df['bids'].mean(axis=1).rolling(10).mean().plot()"
   ]
  },
  {
   "cell_type": "markdown",
   "metadata": {},
   "source": [
    "## test multiple policies"
   ]
  },
  {
   "cell_type": "code",
   "execution_count": 2,
   "metadata": {},
   "outputs": [],
   "source": [
    "def test_policy(throttling, fees_init, budgets_init):\n",
    "    auctioned_objects = np.array([AuctionedObject(i, 1, np.inf, fee=fees_init[i]) for i in range(N_objects)])\n",
    "    auctioneer = Auctioneer(auctioned_objects)\n",
    "    bidders = np.array([SimpleBidder(budget=budgets_init[i]) for i in range(N_bidders)])\n",
    "\n",
    "    house = AuctionHouse(N_rounds, \n",
    "                         auctioneer, \n",
    "                         bidders, \n",
    "                         rp_policy=None,\n",
    "                         throttling=throttling,\n",
    "                        )\n",
    "\n",
    "    for i in range(N_rounds):\n",
    "        obj_id = house.select_object_to_sell()\n",
    "        house.sell_object(obj_id)\n",
    "        \n",
    "    return house"
   ]
  },
  {
   "cell_type": "code",
   "execution_count": 3,
   "metadata": {},
   "outputs": [],
   "source": [
    "N_rounds = 1000\n",
    "N_objects = 100\n",
    "N_bidders = 130\n",
    "\n",
    "budgets = np.array([30, 50, 80])\n",
    "budgets_p = np.array([0.4, 0.4, 0.2])\n",
    "budgets_init = np.array([np.random.choice(budgets, p=budgets_p) for _ in range(N_bidders)])\n",
    "\n",
    "fees = np.array([0, 0.3, 0.7])\n",
    "fees_p = np.array([0.5, 0.25, 0.25])\n",
    "fees_init = np.array([np.random.choice(fees, p=fees_p) for i in range(N_objects)])\n",
    "\n",
    "uniform_throttling = Throttling(N_rounds, budgets_init)\n",
    "sigmoid_throttling1 = Throttling(N_rounds, budgets_init, planning='sigmoid', planning_kwargs={'s':1, 't0':0.5})\n",
    "sigmoid_throttling2 = Throttling(N_rounds, budgets_init, planning='sigmoid', planning_kwargs={'s':1, 't0':1})\n",
    "\n",
    "throttling_policies = [uniform_throttling, sigmoid_throttling1, sigmoid_throttling2]\n",
    "N_policies = len(throttling_policies)"
   ]
  },
  {
   "cell_type": "code",
   "execution_count": 4,
   "metadata": {},
   "outputs": [
    {
     "name": "stdout",
     "output_type": "stream",
     "text": [
      "testing policy  0\n"
     ]
    },
    {
     "ename": "KeyboardInterrupt",
     "evalue": "",
     "output_type": "error",
     "traceback": [
      "\u001b[1;31m---------------------------------------------------------------------------\u001b[0m",
      "\u001b[1;31mKeyboardInterrupt\u001b[0m                         Traceback (most recent call last)",
      "\u001b[1;32m<timed exec>\u001b[0m in \u001b[0;36m<module>\u001b[1;34m\u001b[0m\n",
      "\u001b[1;32m<ipython-input-2-e6d8e10d4caa>\u001b[0m in \u001b[0;36mtest_policy\u001b[1;34m(throttling, fees_init, budgets_init)\u001b[0m\n\u001b[0;32m     13\u001b[0m     \u001b[1;32mfor\u001b[0m \u001b[0mi\u001b[0m \u001b[1;32min\u001b[0m \u001b[0mrange\u001b[0m\u001b[1;33m(\u001b[0m\u001b[0mN_rounds\u001b[0m\u001b[1;33m)\u001b[0m\u001b[1;33m:\u001b[0m\u001b[1;33m\u001b[0m\u001b[1;33m\u001b[0m\u001b[0m\n\u001b[0;32m     14\u001b[0m         \u001b[0mobj_id\u001b[0m \u001b[1;33m=\u001b[0m \u001b[0mhouse\u001b[0m\u001b[1;33m.\u001b[0m\u001b[0mselect_object_to_sell\u001b[0m\u001b[1;33m(\u001b[0m\u001b[1;33m)\u001b[0m\u001b[1;33m\u001b[0m\u001b[1;33m\u001b[0m\u001b[0m\n\u001b[1;32m---> 15\u001b[1;33m         \u001b[0mhouse\u001b[0m\u001b[1;33m.\u001b[0m\u001b[0msell_object\u001b[0m\u001b[1;33m(\u001b[0m\u001b[0mobj_id\u001b[0m\u001b[1;33m)\u001b[0m\u001b[1;33m\u001b[0m\u001b[1;33m\u001b[0m\u001b[0m\n\u001b[0m\u001b[0;32m     16\u001b[0m \u001b[1;33m\u001b[0m\u001b[0m\n\u001b[0;32m     17\u001b[0m     \u001b[1;32mreturn\u001b[0m \u001b[0mhouse\u001b[0m\u001b[1;33m\u001b[0m\u001b[1;33m\u001b[0m\u001b[0m\n",
      "\u001b[1;32m~\\PycharmProjects\\Auction simulator project\\AuctionSimulator\\Controllers.py\u001b[0m in \u001b[0;36msell_object\u001b[1;34m(self, obj_id)\u001b[0m\n\u001b[0;32m    118\u001b[0m         \u001b[1;32mif\u001b[0m \u001b[0mself\u001b[0m\u001b[1;33m.\u001b[0m\u001b[0mthrottling\u001b[0m\u001b[1;33m:\u001b[0m\u001b[1;33m\u001b[0m\u001b[1;33m\u001b[0m\u001b[0m\n\u001b[0;32m    119\u001b[0m             \u001b[0mprobabilities\u001b[0m \u001b[1;33m=\u001b[0m \u001b[0mself\u001b[0m\u001b[1;33m.\u001b[0m\u001b[0mthrottling\u001b[0m\u001b[1;33m.\u001b[0m\u001b[0mprobability_function\u001b[0m\u001b[1;33m(\u001b[0m\u001b[0mself\u001b[0m\u001b[1;33m)\u001b[0m\u001b[1;33m\u001b[0m\u001b[1;33m\u001b[0m\u001b[0m\n\u001b[1;32m--> 120\u001b[1;33m             \u001b[0mdecisions\u001b[0m \u001b[1;33m=\u001b[0m \u001b[0mself\u001b[0m\u001b[1;33m.\u001b[0m\u001b[0mthrottling\u001b[0m\u001b[1;33m.\u001b[0m\u001b[0mbinomial_decision\u001b[0m\u001b[1;33m(\u001b[0m\u001b[0mself\u001b[0m\u001b[1;33m,\u001b[0m \u001b[0mprobabilities\u001b[0m\u001b[1;33m)\u001b[0m\u001b[1;33m\u001b[0m\u001b[1;33m\u001b[0m\u001b[0m\n\u001b[0m\u001b[0;32m    121\u001b[0m             \u001b[0mbids\u001b[0m\u001b[1;33m[\u001b[0m\u001b[0mdecisions\u001b[0m\u001b[1;33m]\u001b[0m \u001b[1;33m=\u001b[0m \u001b[1;36m0\u001b[0m\u001b[1;33m\u001b[0m\u001b[1;33m\u001b[0m\u001b[0m\n\u001b[0;32m    122\u001b[0m         \u001b[1;32melse\u001b[0m\u001b[1;33m:\u001b[0m\u001b[1;33m\u001b[0m\u001b[1;33m\u001b[0m\u001b[0m\n",
      "\u001b[1;32m~\\PycharmProjects\\Auction simulator project\\AuctionSimulator\\Policies\\Throttling.py\u001b[0m in \u001b[0;36mbinomial_decision\u001b[1;34m(house, probabilities)\u001b[0m\n\u001b[0;32m    163\u001b[0m     \u001b[1;33m@\u001b[0m\u001b[0mstaticmethod\u001b[0m\u001b[1;33m\u001b[0m\u001b[1;33m\u001b[0m\u001b[0m\n\u001b[0;32m    164\u001b[0m     \u001b[1;32mdef\u001b[0m \u001b[0mbinomial_decision\u001b[0m\u001b[1;33m(\u001b[0m\u001b[0mhouse\u001b[0m\u001b[1;33m,\u001b[0m \u001b[0mprobabilities\u001b[0m\u001b[1;33m)\u001b[0m\u001b[1;33m:\u001b[0m\u001b[1;33m\u001b[0m\u001b[1;33m\u001b[0m\u001b[0m\n\u001b[1;32m--> 165\u001b[1;33m         \u001b[1;32mreturn\u001b[0m \u001b[0mnp\u001b[0m\u001b[1;33m.\u001b[0m\u001b[0mrandom\u001b[0m\u001b[1;33m.\u001b[0m\u001b[0mbinomial\u001b[0m\u001b[1;33m(\u001b[0m\u001b[1;36m1\u001b[0m\u001b[1;33m,\u001b[0m \u001b[1;36m1\u001b[0m \u001b[1;33m-\u001b[0m \u001b[0mprobabilities\u001b[0m\u001b[1;33m)\u001b[0m\u001b[1;33m.\u001b[0m\u001b[0mastype\u001b[0m\u001b[1;33m(\u001b[0m\u001b[0mbool\u001b[0m\u001b[1;33m)\u001b[0m\u001b[1;33m\u001b[0m\u001b[1;33m\u001b[0m\u001b[0m\n\u001b[0m",
      "\u001b[1;31mKeyboardInterrupt\u001b[0m: "
     ]
    }
   ],
   "source": [
    "%%time\n",
    "N_days = 200\n",
    "revenues_data = np.zeros((N_days, N_policies))\n",
    "fees_paid_data = np.zeros((N_days, N_policies))\n",
    "\n",
    "for thr, throttling in enumerate(throttling_policies):\n",
    "    print('testing policy ', thr)\n",
    "    for d in range(N_days):\n",
    "        house = test_policy(throttling, fees_init, budgets_init)\n",
    "        revenues_data[d, thr] = house.auctioneer.revenue\n",
    "        fees_paid_data[d, thr] = house.auctioneer.fees_paid"
   ]
  },
  {
   "cell_type": "code",
   "execution_count": 8,
   "metadata": {},
   "outputs": [
    {
     "data": {
      "text/plain": [
       "\u001b[1;31mSignature:\u001b[0m \u001b[0mthrottling\u001b[0m\u001b[1;33m.\u001b[0m\u001b[0mtotal_probability\u001b[0m\u001b[1;33m(\u001b[0m\u001b[0mhouse\u001b[0m\u001b[1;33m)\u001b[0m\u001b[1;33m\u001b[0m\u001b[1;33m\u001b[0m\u001b[0m\n",
       "\u001b[1;31mSource:\u001b[0m   \n",
       "    \u001b[1;32mdef\u001b[0m \u001b[0mtotal_probability\u001b[0m\u001b[1;33m(\u001b[0m\u001b[0mself\u001b[0m\u001b[1;33m,\u001b[0m \u001b[0mhouse\u001b[0m\u001b[1;33m)\u001b[0m\u001b[1;33m:\u001b[0m\u001b[1;33m\n",
       "\u001b[0m        \u001b[1;34m\"\"\"\n",
       "        The bidder will not participate in the auction if their budget is below the current plan\n",
       "\n",
       "        Parameters:\n",
       "        ===========\n",
       "        house (object): An AuctionHouse object.\n",
       "        \"\"\"\u001b[0m\u001b[1;33m\n",
       "\u001b[0m\u001b[1;33m\n",
       "\u001b[0m        \u001b[0mcurrent_budgets\u001b[0m \u001b[1;33m=\u001b[0m \u001b[1;33m[\u001b[0m\u001b[0mb\u001b[0m\u001b[1;33m.\u001b[0m\u001b[0mbudget\u001b[0m \u001b[1;32mfor\u001b[0m \u001b[0mb\u001b[0m \u001b[1;32min\u001b[0m \u001b[0mhouse\u001b[0m\u001b[1;33m.\u001b[0m\u001b[0mbidders\u001b[0m\u001b[1;33m]\u001b[0m\u001b[1;33m\n",
       "\u001b[0m        \u001b[0mprobabilities\u001b[0m \u001b[1;33m=\u001b[0m \u001b[0mnp\u001b[0m\u001b[1;33m.\u001b[0m\u001b[0mwhere\u001b[0m\u001b[1;33m(\u001b[0m\u001b[0mcurrent_budgets\u001b[0m \u001b[1;33m>=\u001b[0m \u001b[0mself\u001b[0m\u001b[1;33m.\u001b[0m\u001b[0mplan\u001b[0m\u001b[1;33m[\u001b[0m\u001b[0mhouse\u001b[0m\u001b[1;33m.\u001b[0m\u001b[0mcounter\u001b[0m\u001b[1;33m]\u001b[0m\u001b[1;33m,\u001b[0m \u001b[1;36m1\u001b[0m\u001b[1;33m,\u001b[0m \u001b[1;36m0\u001b[0m\u001b[1;33m)\u001b[0m\u001b[1;33m\n",
       "\u001b[0m        \u001b[1;32mreturn\u001b[0m \u001b[0mprobabilities\u001b[0m\u001b[1;33m\u001b[0m\u001b[1;33m\u001b[0m\u001b[0m\n",
       "\u001b[1;31mFile:\u001b[0m      c:\\users\\s2091069\\pycharmprojects\\auction simulator project\\auctionsimulator\\policies\\throttling.py\n",
       "\u001b[1;31mType:\u001b[0m      method\n"
      ]
     },
     "metadata": {},
     "output_type": "display_data"
    }
   ],
   "source": [
    "throttling.total_probability??"
   ]
  },
  {
   "cell_type": "code",
   "execution_count": 5,
   "metadata": {},
   "outputs": [
    {
     "data": {
      "text/plain": [
       "array([4690.59, 4758.36, 4746.35, 4790.12])"
      ]
     },
     "execution_count": 5,
     "metadata": {},
     "output_type": "execute_result"
    }
   ],
   "source": [
    "revenues_data.mean(axis=0).round(2)"
   ]
  },
  {
   "cell_type": "code",
   "execution_count": 6,
   "metadata": {},
   "outputs": [
    {
     "data": {
      "text/plain": [
       "array([1448.76, 1379.81, 1392.16, 1346.54])"
      ]
     },
     "execution_count": 6,
     "metadata": {},
     "output_type": "execute_result"
    }
   ],
   "source": [
    "fees_paid_data.mean(axis=0).round(2)"
   ]
  },
  {
   "cell_type": "markdown",
   "metadata": {},
   "source": [
    "# Fees reduction by dynamic reserve price"
   ]
  },
  {
   "cell_type": "code",
   "execution_count": 147,
   "metadata": {},
   "outputs": [],
   "source": [
    "import numpy as np\n",
    "import pandas as pd\n",
    "import matplotlib.pyplot as plt\n",
    "from scipy import stats\n",
    "import seaborn as sns\n",
    "\n",
    "from Auction_simulator.agents import AuctionedObject, Auctioneer, SimpleBidder, AuctionHouse\n",
    "from Auction_simulator.trackers import AuctionTracker, BidderTracker\n",
    "from Auction_simulator.auction_types import SecondPriceAuction"
   ]
  },
  {
   "cell_type": "code",
   "execution_count": 148,
   "metadata": {},
   "outputs": [],
   "source": [
    "def rp_fees1(house):\n",
    "    if house.auctioned_object.fee > 0:\n",
    "        return np.mean([house.second_bid, house.winning_bid])\n",
    "    else:\n",
    "        return house.auctioneer.x0\n",
    "    \n",
    "def rp_fees2(house):\n",
    "    fee = house.auctioned_object.fee\n",
    "    r = fee*house.winning_bid + (1-fee)*house.second_bid\n",
    "    return r \n",
    "    \n",
    "def rp_fees3(house):\n",
    "    fee = house.auctioned_object.fee\n",
    "    r = fee*np.mean([house.winning_bid + house.second_bid]) + (1-fee)*house.auctioneer.x0\n",
    "    return r "
   ]
  },
  {
   "cell_type": "code",
   "execution_count": 149,
   "metadata": {},
   "outputs": [],
   "source": [
    "def test_policy(rp_policy, fees_init, budgets_init):\n",
    "\n",
    "    auctioned_objects = np.array([AuctionedObject(i, 1, np.inf, fee=fees_init[i]) for i in range(N_objects)])\n",
    "    auctioneer = Auctioneer(auctioned_objects, x0=1)\n",
    "    bidders = np.array([SimpleBidder(budget=budgets_init[i]) for i in range(N_bidders)])\n",
    "\n",
    "    auction_tracker = AuctionTracker(N_rounds)\n",
    "    bidder_tracker = BidderTracker(N_rounds, N_bidders, N_objects)\n",
    "    house = AuctionHouse(auctioneer, bidders, \n",
    "                         rp_policy = rp_fees1,\n",
    "                         auction_tracker=auction_tracker,\n",
    "                         bidder_tracker=bidder_tracker\n",
    "                        )\n",
    "\n",
    "    for i in range(N_rounds):\n",
    "        obj_id = house.select_object_to_sell()\n",
    "        house.sell_object(obj_id)\n",
    "        \n",
    "    return house"
   ]
  },
  {
   "cell_type": "code",
   "execution_count": 150,
   "metadata": {},
   "outputs": [],
   "source": [
    "N_rounds = 1000\n",
    "N_objects = 100\n",
    "N_bidders = 130\n",
    "\n",
    "budgets = np.array([30, 50, 80])\n",
    "budgets_p = np.array([0.4, 0.4, 0.2])\n",
    "budgets_init = np.array([np.random.choice(budgets, p=budgets_p) for _ in range(N_bidders)])\n",
    "\n",
    "fees = np.array([0, 0.3, 0.7])\n",
    "fees_p = np.array([0.5, 0.25, 0.25])\n",
    "fees_init = np.array([np.random.choice(fees, p=fees_p) for i in range(N_objects)])"
   ]
  },
  {
   "cell_type": "code",
   "execution_count": 151,
   "metadata": {},
   "outputs": [
    {
     "name": "stdout",
     "output_type": "stream",
     "text": [
      "testing policy  0\n"
     ]
    },
    {
     "ename": "AttributeError",
     "evalue": "'int' object has no attribute 'size'",
     "output_type": "error",
     "traceback": [
      "\u001b[1;31m---------------------------------------------------------------------------\u001b[0m",
      "\u001b[1;31mAttributeError\u001b[0m                            Traceback (most recent call last)",
      "\u001b[1;32m<timed exec>\u001b[0m in \u001b[0;36m<module>\u001b[1;34m\u001b[0m\n",
      "\u001b[1;32m<ipython-input-149-3c08707ba7fa>\u001b[0m in \u001b[0;36mtest_policy\u001b[1;34m(rp_policy, fees_init, budgets_init)\u001b[0m\n\u001b[0;32m      2\u001b[0m \u001b[1;33m\u001b[0m\u001b[0m\n\u001b[0;32m      3\u001b[0m     \u001b[0mauctioned_objects\u001b[0m \u001b[1;33m=\u001b[0m \u001b[0mnp\u001b[0m\u001b[1;33m.\u001b[0m\u001b[0marray\u001b[0m\u001b[1;33m(\u001b[0m\u001b[1;33m[\u001b[0m\u001b[0mAuctionedObject\u001b[0m\u001b[1;33m(\u001b[0m\u001b[0mi\u001b[0m\u001b[1;33m,\u001b[0m \u001b[1;36m1\u001b[0m\u001b[1;33m,\u001b[0m \u001b[0mnp\u001b[0m\u001b[1;33m.\u001b[0m\u001b[0minf\u001b[0m\u001b[1;33m,\u001b[0m \u001b[0mfee\u001b[0m\u001b[1;33m=\u001b[0m\u001b[0mfees_init\u001b[0m\u001b[1;33m[\u001b[0m\u001b[0mi\u001b[0m\u001b[1;33m]\u001b[0m\u001b[1;33m)\u001b[0m \u001b[1;32mfor\u001b[0m \u001b[0mi\u001b[0m \u001b[1;32min\u001b[0m \u001b[0mrange\u001b[0m\u001b[1;33m(\u001b[0m\u001b[0mN_objects\u001b[0m\u001b[1;33m)\u001b[0m\u001b[1;33m]\u001b[0m\u001b[1;33m)\u001b[0m\u001b[1;33m\u001b[0m\u001b[1;33m\u001b[0m\u001b[0m\n\u001b[1;32m----> 4\u001b[1;33m     \u001b[0mauctioneer\u001b[0m \u001b[1;33m=\u001b[0m \u001b[0mAuctioneer\u001b[0m\u001b[1;33m(\u001b[0m\u001b[0mauctioned_objects\u001b[0m\u001b[1;33m,\u001b[0m \u001b[0mx0\u001b[0m\u001b[1;33m=\u001b[0m\u001b[1;36m1\u001b[0m\u001b[1;33m)\u001b[0m\u001b[1;33m\u001b[0m\u001b[1;33m\u001b[0m\u001b[0m\n\u001b[0m\u001b[0;32m      5\u001b[0m     \u001b[0mbidders\u001b[0m \u001b[1;33m=\u001b[0m \u001b[0mnp\u001b[0m\u001b[1;33m.\u001b[0m\u001b[0marray\u001b[0m\u001b[1;33m(\u001b[0m\u001b[1;33m[\u001b[0m\u001b[0mSimpleBidder\u001b[0m\u001b[1;33m(\u001b[0m\u001b[0mbudget\u001b[0m\u001b[1;33m=\u001b[0m\u001b[0mbudgets_init\u001b[0m\u001b[1;33m[\u001b[0m\u001b[0mi\u001b[0m\u001b[1;33m]\u001b[0m\u001b[1;33m)\u001b[0m \u001b[1;32mfor\u001b[0m \u001b[0mi\u001b[0m \u001b[1;32min\u001b[0m \u001b[0mrange\u001b[0m\u001b[1;33m(\u001b[0m\u001b[0mN_bidders\u001b[0m\u001b[1;33m)\u001b[0m\u001b[1;33m]\u001b[0m\u001b[1;33m)\u001b[0m\u001b[1;33m\u001b[0m\u001b[1;33m\u001b[0m\u001b[0m\n\u001b[0;32m      6\u001b[0m \u001b[1;33m\u001b[0m\u001b[0m\n",
      "\u001b[1;32m~\\Google Drive\\Blbosti\\Auction_simulator\\agents.py\u001b[0m in \u001b[0;36m__init__\u001b[1;34m(self, auctioned_objects, x0)\u001b[0m\n\u001b[0;32m    130\u001b[0m             \u001b[0mself\u001b[0m\u001b[1;33m.\u001b[0m\u001b[0mx0\u001b[0m \u001b[1;33m=\u001b[0m \u001b[0mx0\u001b[0m\u001b[1;33m\u001b[0m\u001b[1;33m\u001b[0m\u001b[0m\n\u001b[0;32m    131\u001b[0m         \u001b[0mself\u001b[0m\u001b[1;33m.\u001b[0m\u001b[0mauctioned_objects\u001b[0m \u001b[1;33m=\u001b[0m \u001b[0mauctioned_objects\u001b[0m\u001b[1;33m\u001b[0m\u001b[1;33m\u001b[0m\u001b[0m\n\u001b[1;32m--> 132\u001b[1;33m         \u001b[1;32massert\u001b[0m \u001b[0mself\u001b[0m\u001b[1;33m.\u001b[0m\u001b[0mx0\u001b[0m\u001b[1;33m.\u001b[0m\u001b[0msize\u001b[0m \u001b[1;33m==\u001b[0m \u001b[0mself\u001b[0m\u001b[1;33m.\u001b[0m\u001b[0mauctioned_objects\u001b[0m\u001b[1;33m.\u001b[0m\u001b[0msize\u001b[0m\u001b[1;33m,\u001b[0m \u001b[1;34m\"x0 must be of same size like auctioned_objects\"\u001b[0m\u001b[1;33m\u001b[0m\u001b[1;33m\u001b[0m\u001b[0m\n\u001b[0m\u001b[0;32m    133\u001b[0m         \u001b[0mself\u001b[0m\u001b[1;33m.\u001b[0m\u001b[0mrevenue\u001b[0m \u001b[1;33m=\u001b[0m \u001b[1;36m0\u001b[0m\u001b[1;33m\u001b[0m\u001b[1;33m\u001b[0m\u001b[0m\n\u001b[0;32m    134\u001b[0m         \u001b[0mself\u001b[0m\u001b[1;33m.\u001b[0m\u001b[0mfees_paid\u001b[0m \u001b[1;33m=\u001b[0m \u001b[1;36m0\u001b[0m\u001b[1;33m\u001b[0m\u001b[1;33m\u001b[0m\u001b[0m\n",
      "\u001b[1;31mAttributeError\u001b[0m: 'int' object has no attribute 'size'"
     ]
    }
   ],
   "source": [
    "%%time\n",
    "\n",
    "rp_policies = [None, rp_fees1, rp_fees2, rp_fees3]\n",
    "rp_policies = [None]\n",
    "N_policies = len(rp_policies)\n",
    "N_days = 1\n",
    "revenues_data = np.zeros((N_days, N_policies))\n",
    "fees_paid_data = np.zeros((N_days, N_policies))\n",
    "\n",
    "for rp, rp_policy in enumerate(rp_policies):\n",
    "    print('testing policy ', rp)\n",
    "    for d in range(N_days):\n",
    "        house = test_policy(rp_policy, fees_init, budgets_init)\n",
    "        revenues_data[d, rp] = house.auctioneer.revenue\n",
    "        fees_paid_data[d, rp] = house.auctioneer.fees_paid"
   ]
  },
  {
   "cell_type": "code",
   "execution_count": 152,
   "metadata": {},
   "outputs": [
    {
     "data": {
      "text/plain": [
       "array([0.])"
      ]
     },
     "execution_count": 152,
     "metadata": {},
     "output_type": "execute_result"
    }
   ],
   "source": [
    "revenues_data.mean(axis=0).round(2)"
   ]
  },
  {
   "cell_type": "code",
   "execution_count": 8,
   "metadata": {},
   "outputs": [
    {
     "ename": "NameError",
     "evalue": "name 'fees_paid_data' is not defined",
     "output_type": "error",
     "traceback": [
      "\u001b[1;31m---------------------------------------------------------------------------\u001b[0m",
      "\u001b[1;31mNameError\u001b[0m                                 Traceback (most recent call last)",
      "\u001b[1;32m<ipython-input-8-79961114dada>\u001b[0m in \u001b[0;36m<module>\u001b[1;34m\u001b[0m\n\u001b[1;32m----> 1\u001b[1;33m \u001b[0mfees_paid_data\u001b[0m\u001b[1;33m.\u001b[0m\u001b[0mmean\u001b[0m\u001b[1;33m(\u001b[0m\u001b[0maxis\u001b[0m\u001b[1;33m=\u001b[0m\u001b[1;36m0\u001b[0m\u001b[1;33m)\u001b[0m\u001b[1;33m.\u001b[0m\u001b[0mround\u001b[0m\u001b[1;33m(\u001b[0m\u001b[1;36m2\u001b[0m\u001b[1;33m)\u001b[0m\u001b[1;33m\u001b[0m\u001b[1;33m\u001b[0m\u001b[0m\n\u001b[0m",
      "\u001b[1;31mNameError\u001b[0m: name 'fees_paid_data' is not defined"
     ]
    }
   ],
   "source": [
    "fees_paid_data.mean(axis=0).round(2)"
   ]
  },
  {
   "cell_type": "code",
   "execution_count": null,
   "metadata": {},
   "outputs": [],
   "source": []
  },
  {
   "cell_type": "code",
   "execution_count": null,
   "metadata": {},
   "outputs": [],
   "source": []
  }
 ],
 "metadata": {
  "kernelspec": {
   "display_name": "Python 3",
   "language": "python",
   "name": "python3"
  },
  "language_info": {
   "codemirror_mode": {
    "name": "ipython",
    "version": 3
   },
   "file_extension": ".py",
   "mimetype": "text/x-python",
   "name": "python",
   "nbconvert_exporter": "python",
   "pygments_lexer": "ipython3",
   "version": "3.8.3"
  }
 },
 "nbformat": 4,
 "nbformat_minor": 4
}
