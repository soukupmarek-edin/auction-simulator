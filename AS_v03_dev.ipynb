{
 "cells": [
  {
   "cell_type": "code",
   "execution_count": null,
   "metadata": {},
   "outputs": [],
   "source": []
  },
  {
   "cell_type": "code",
   "execution_count": null,
   "metadata": {},
   "outputs": [],
   "source": []
  },
  {
   "cell_type": "code",
   "execution_count": null,
   "metadata": {},
   "outputs": [],
   "source": []
  },
  {
   "cell_type": "code",
   "execution_count": 1,
   "metadata": {},
   "outputs": [],
   "source": [
    "import numpy as np\n",
    "import pandas as pd\n",
    "import matplotlib.pyplot as plt\n",
    "from scipy import stats, optimize\n",
    "import seaborn as sns"
   ]
  },
  {
   "cell_type": "code",
   "execution_count": 2,
   "metadata": {},
   "outputs": [],
   "source": [
    "n_rounds = 1000\n",
    "time = np.linspace(0,24,n_rounds)\n",
    "\n",
    "np.random.uniform(0,24)\n",
    "\n",
    "dates = pd.date_range('2020-01-01', '2020-01-02', freq='S')"
   ]
  },
  {
   "cell_type": "code",
   "execution_count": 3,
   "metadata": {},
   "outputs": [],
   "source": [
    "morning_size = dates[dates.hour<=6].size\n",
    "probs = np.concatenate([np.repeat(0.1, morning_size)/morning_size, np.repeat(0.9, dates.size-morning_size)/(dates.size-morning_size)])\n",
    "times = np.sort(np.random.choice(dates, p=probs, size=n_rounds))\n",
    "df = pd.DataFrame(times)"
   ]
  },
  {
   "cell_type": "code",
   "execution_count": null,
   "metadata": {},
   "outputs": [],
   "source": []
  },
  {
   "cell_type": "markdown",
   "metadata": {},
   "source": [
    "# Reserve prices for revenue increase"
   ]
  },
  {
   "cell_type": "code",
   "execution_count": 4,
   "metadata": {},
   "outputs": [],
   "source": [
    "import numpy as np\n",
    "import pandas as pd\n",
    "import matplotlib.pyplot as plt\n",
    "from scipy import stats, optimize\n",
    "import seaborn as sns"
   ]
  },
  {
   "cell_type": "code",
   "execution_count": 5,
   "metadata": {},
   "outputs": [
    {
     "ename": "NameError",
     "evalue": "name 'AuctionedObject' is not defined",
     "output_type": "error",
     "traceback": [
      "\u001b[1;31m---------------------------------------------------------------------------\u001b[0m",
      "\u001b[1;31mNameError\u001b[0m                                 Traceback (most recent call last)",
      "\u001b[1;32m<ipython-input-5-6f3e57f7eddd>\u001b[0m in \u001b[0;36m<module>\u001b[1;34m\u001b[0m\n\u001b[0;32m     11\u001b[0m \u001b[0mfees_init\u001b[0m \u001b[1;33m=\u001b[0m \u001b[0mnp\u001b[0m\u001b[1;33m.\u001b[0m\u001b[0marray\u001b[0m\u001b[1;33m(\u001b[0m\u001b[1;33m[\u001b[0m\u001b[0mnp\u001b[0m\u001b[1;33m.\u001b[0m\u001b[0mrandom\u001b[0m\u001b[1;33m.\u001b[0m\u001b[0mchoice\u001b[0m\u001b[1;33m(\u001b[0m\u001b[0mfees\u001b[0m\u001b[1;33m,\u001b[0m \u001b[0mp\u001b[0m\u001b[1;33m=\u001b[0m\u001b[0mfees_p\u001b[0m\u001b[1;33m)\u001b[0m \u001b[1;32mfor\u001b[0m \u001b[0mi\u001b[0m \u001b[1;32min\u001b[0m \u001b[0mrange\u001b[0m\u001b[1;33m(\u001b[0m\u001b[0mN_objects\u001b[0m\u001b[1;33m)\u001b[0m\u001b[1;33m]\u001b[0m\u001b[1;33m)\u001b[0m\u001b[1;33m\u001b[0m\u001b[1;33m\u001b[0m\u001b[0m\n\u001b[0;32m     12\u001b[0m \u001b[1;33m\u001b[0m\u001b[0m\n\u001b[1;32m---> 13\u001b[1;33m \u001b[0mauctioned_objects\u001b[0m \u001b[1;33m=\u001b[0m \u001b[0mnp\u001b[0m\u001b[1;33m.\u001b[0m\u001b[0marray\u001b[0m\u001b[1;33m(\u001b[0m\u001b[1;33m[\u001b[0m\u001b[0mAuctionedObject\u001b[0m\u001b[1;33m(\u001b[0m\u001b[0mi\u001b[0m\u001b[1;33m,\u001b[0m \u001b[1;36m2.5\u001b[0m\u001b[1;33m,\u001b[0m \u001b[0mnp\u001b[0m\u001b[1;33m.\u001b[0m\u001b[0minf\u001b[0m\u001b[1;33m,\u001b[0m \u001b[0mfee\u001b[0m\u001b[1;33m=\u001b[0m\u001b[0mfees_init\u001b[0m\u001b[1;33m[\u001b[0m\u001b[0mi\u001b[0m\u001b[1;33m]\u001b[0m\u001b[1;33m)\u001b[0m \u001b[1;32mfor\u001b[0m \u001b[0mi\u001b[0m \u001b[1;32min\u001b[0m \u001b[0mrange\u001b[0m\u001b[1;33m(\u001b[0m\u001b[0mN_objects\u001b[0m\u001b[1;33m)\u001b[0m\u001b[1;33m]\u001b[0m\u001b[1;33m)\u001b[0m\u001b[1;33m\u001b[0m\u001b[1;33m\u001b[0m\u001b[0m\n\u001b[0m\u001b[0;32m     14\u001b[0m \u001b[0mauctioneer\u001b[0m \u001b[1;33m=\u001b[0m \u001b[0mAuctioneer\u001b[0m\u001b[1;33m(\u001b[0m\u001b[0mauctioned_objects\u001b[0m\u001b[1;33m,\u001b[0m \u001b[0mx0\u001b[0m \u001b[1;33m=\u001b[0m \u001b[0mnp\u001b[0m\u001b[1;33m.\u001b[0m\u001b[0mones\u001b[0m\u001b[1;33m(\u001b[0m\u001b[0mN_objects\u001b[0m\u001b[1;33m)\u001b[0m\u001b[1;33m*\u001b[0m\u001b[1;36m0\u001b[0m\u001b[1;33m)\u001b[0m\u001b[1;33m\u001b[0m\u001b[1;33m\u001b[0m\u001b[0m\n\u001b[0;32m     15\u001b[0m \u001b[0mbidders\u001b[0m \u001b[1;33m=\u001b[0m \u001b[0mnp\u001b[0m\u001b[1;33m.\u001b[0m\u001b[0marray\u001b[0m\u001b[1;33m(\u001b[0m\u001b[1;33m[\u001b[0m\u001b[0mSimpleBidder\u001b[0m\u001b[1;33m(\u001b[0m\u001b[0mbudget\u001b[0m\u001b[1;33m=\u001b[0m\u001b[0mbudgets_init\u001b[0m\u001b[1;33m[\u001b[0m\u001b[0mi\u001b[0m\u001b[1;33m]\u001b[0m\u001b[1;33m)\u001b[0m \u001b[1;32mfor\u001b[0m \u001b[0mi\u001b[0m \u001b[1;32min\u001b[0m \u001b[0mrange\u001b[0m\u001b[1;33m(\u001b[0m\u001b[0mN_bidders\u001b[0m\u001b[1;33m)\u001b[0m\u001b[1;33m]\u001b[0m\u001b[1;33m)\u001b[0m\u001b[1;33m\u001b[0m\u001b[1;33m\u001b[0m\u001b[0m\n",
      "\u001b[1;32m<ipython-input-5-6f3e57f7eddd>\u001b[0m in \u001b[0;36m<listcomp>\u001b[1;34m(.0)\u001b[0m\n\u001b[0;32m     11\u001b[0m \u001b[0mfees_init\u001b[0m \u001b[1;33m=\u001b[0m \u001b[0mnp\u001b[0m\u001b[1;33m.\u001b[0m\u001b[0marray\u001b[0m\u001b[1;33m(\u001b[0m\u001b[1;33m[\u001b[0m\u001b[0mnp\u001b[0m\u001b[1;33m.\u001b[0m\u001b[0mrandom\u001b[0m\u001b[1;33m.\u001b[0m\u001b[0mchoice\u001b[0m\u001b[1;33m(\u001b[0m\u001b[0mfees\u001b[0m\u001b[1;33m,\u001b[0m \u001b[0mp\u001b[0m\u001b[1;33m=\u001b[0m\u001b[0mfees_p\u001b[0m\u001b[1;33m)\u001b[0m \u001b[1;32mfor\u001b[0m \u001b[0mi\u001b[0m \u001b[1;32min\u001b[0m \u001b[0mrange\u001b[0m\u001b[1;33m(\u001b[0m\u001b[0mN_objects\u001b[0m\u001b[1;33m)\u001b[0m\u001b[1;33m]\u001b[0m\u001b[1;33m)\u001b[0m\u001b[1;33m\u001b[0m\u001b[1;33m\u001b[0m\u001b[0m\n\u001b[0;32m     12\u001b[0m \u001b[1;33m\u001b[0m\u001b[0m\n\u001b[1;32m---> 13\u001b[1;33m \u001b[0mauctioned_objects\u001b[0m \u001b[1;33m=\u001b[0m \u001b[0mnp\u001b[0m\u001b[1;33m.\u001b[0m\u001b[0marray\u001b[0m\u001b[1;33m(\u001b[0m\u001b[1;33m[\u001b[0m\u001b[0mAuctionedObject\u001b[0m\u001b[1;33m(\u001b[0m\u001b[0mi\u001b[0m\u001b[1;33m,\u001b[0m \u001b[1;36m2.5\u001b[0m\u001b[1;33m,\u001b[0m \u001b[0mnp\u001b[0m\u001b[1;33m.\u001b[0m\u001b[0minf\u001b[0m\u001b[1;33m,\u001b[0m \u001b[0mfee\u001b[0m\u001b[1;33m=\u001b[0m\u001b[0mfees_init\u001b[0m\u001b[1;33m[\u001b[0m\u001b[0mi\u001b[0m\u001b[1;33m]\u001b[0m\u001b[1;33m)\u001b[0m \u001b[1;32mfor\u001b[0m \u001b[0mi\u001b[0m \u001b[1;32min\u001b[0m \u001b[0mrange\u001b[0m\u001b[1;33m(\u001b[0m\u001b[0mN_objects\u001b[0m\u001b[1;33m)\u001b[0m\u001b[1;33m]\u001b[0m\u001b[1;33m)\u001b[0m\u001b[1;33m\u001b[0m\u001b[1;33m\u001b[0m\u001b[0m\n\u001b[0m\u001b[0;32m     14\u001b[0m \u001b[0mauctioneer\u001b[0m \u001b[1;33m=\u001b[0m \u001b[0mAuctioneer\u001b[0m\u001b[1;33m(\u001b[0m\u001b[0mauctioned_objects\u001b[0m\u001b[1;33m,\u001b[0m \u001b[0mx0\u001b[0m \u001b[1;33m=\u001b[0m \u001b[0mnp\u001b[0m\u001b[1;33m.\u001b[0m\u001b[0mones\u001b[0m\u001b[1;33m(\u001b[0m\u001b[0mN_objects\u001b[0m\u001b[1;33m)\u001b[0m\u001b[1;33m*\u001b[0m\u001b[1;36m0\u001b[0m\u001b[1;33m)\u001b[0m\u001b[1;33m\u001b[0m\u001b[1;33m\u001b[0m\u001b[0m\n\u001b[0;32m     15\u001b[0m \u001b[0mbidders\u001b[0m \u001b[1;33m=\u001b[0m \u001b[0mnp\u001b[0m\u001b[1;33m.\u001b[0m\u001b[0marray\u001b[0m\u001b[1;33m(\u001b[0m\u001b[1;33m[\u001b[0m\u001b[0mSimpleBidder\u001b[0m\u001b[1;33m(\u001b[0m\u001b[0mbudget\u001b[0m\u001b[1;33m=\u001b[0m\u001b[0mbudgets_init\u001b[0m\u001b[1;33m[\u001b[0m\u001b[0mi\u001b[0m\u001b[1;33m]\u001b[0m\u001b[1;33m)\u001b[0m \u001b[1;32mfor\u001b[0m \u001b[0mi\u001b[0m \u001b[1;32min\u001b[0m \u001b[0mrange\u001b[0m\u001b[1;33m(\u001b[0m\u001b[0mN_bidders\u001b[0m\u001b[1;33m)\u001b[0m\u001b[1;33m]\u001b[0m\u001b[1;33m)\u001b[0m\u001b[1;33m\u001b[0m\u001b[1;33m\u001b[0m\u001b[0m\n",
      "\u001b[1;31mNameError\u001b[0m: name 'AuctionedObject' is not defined"
     ]
    }
   ],
   "source": [
    "N_rounds = 1000\n",
    "N_objects = 100\n",
    "N_bidders = 130\n",
    "\n",
    "budgets = np.array([  30.,   50.,   80.,  100.,  120.,  200.,  300.,  500., 1000.])\n",
    "budgets_p = np.ones(9)/9\n",
    "budgets_init = np.array([np.random.choice(budgets, p=budgets_p) for _ in range(N_bidders)])\n",
    "\n",
    "fees = np.array([0, 0.3, 0.36, 0.68])\n",
    "fees_p = np.array([0.36, 0.14, 0.30, 0.2])\n",
    "fees_init = np.array([np.random.choice(fees, p=fees_p) for i in range(N_objects)])\n",
    "\n",
    "auctioned_objects = np.array([AuctionedObject(i, 2.5, np.inf, fee=fees_init[i]) for i in range(N_objects)])\n",
    "auctioneer = Auctioneer(auctioned_objects, x0 = np.ones(N_objects)*0)\n",
    "bidders = np.array([SimpleBidder(budget=budgets_init[i]) for i in range(N_bidders)])"
   ]
  },
  {
   "cell_type": "code",
   "execution_count": null,
   "metadata": {},
   "outputs": [],
   "source": [
    "def myerson_rp(house):\n",
    "    x0 = house.auctioneer.x0[house.auctioned_object.id_]\n",
    "    dist = stats.lognorm(s=0.4, loc=-7, scale=16)\n",
    "    fn = lambda r: r-(1-dist.cdf(r))/dist.pdf(r)-x0\n",
    "    r_star = optimize.fsolve(fn, x0=0.3)\n",
    "    return r_star\n",
    "\n",
    "def rp_fees(house):\n",
    "    obj_id = house.auctioned_object.id_\n",
    "    x0 = house.auctioneer.x0[obj_id]\n",
    "    fee = house.auctioned_object.fee\n",
    "    r = fee*np.mean([house.winning_bid , house.second_bid]) + (1-fee)*x0\n",
    "    return r \n",
    "\n",
    "house = AuctionHouse(N_rounds, \n",
    "                     auctioneer, \n",
    "                     bidders, \n",
    "                     rp_policy=myerson_rp\n",
    "                    )\n",
    "\n",
    "house.run()"
   ]
  },
  {
   "cell_type": "code",
   "execution_count": null,
   "metadata": {},
   "outputs": [],
   "source": [
    "df = house.bidder_tracker.make_dataFrame()"
   ]
  },
  {
   "cell_type": "code",
   "execution_count": null,
   "metadata": {},
   "outputs": [],
   "source": [
    "fig, (ax1, ax2) = plt.subplots(1,2,figsize=(14,4))\n",
    "df['bids'].mean(axis=1).plot(ax=ax1)\n",
    "df['budgets'].mean(axis=1).plot(ax=ax2)"
   ]
  },
  {
   "cell_type": "code",
   "execution_count": null,
   "metadata": {},
   "outputs": [],
   "source": [
    "auc_df = house.auction_tracker.make_dataFrame()\n",
    "auc_df"
   ]
  },
  {
   "cell_type": "markdown",
   "metadata": {},
   "source": [
    "# Throttling"
   ]
  },
  {
   "cell_type": "code",
   "execution_count": null,
   "metadata": {},
   "outputs": [],
   "source": [
    "import numpy as np\n",
    "import pandas as pd\n",
    "import matplotlib.pyplot as plt\n",
    "from scipy import stats\n",
    "import seaborn as sns\n",
    "\n",
    "from AuctionSimulator.Agents.Bidders import SimpleBidder\n",
    "from AuctionSimulator.Agents.AuctionedObject import AuctionedObject, Auctioneer\n",
    "from AuctionSimulator.Controllers import AuctionHouse\n",
    "\n",
    "from AuctionSimulator.Policies.Throttling import Throttling"
   ]
  },
  {
   "cell_type": "markdown",
   "metadata": {},
   "source": [
    "## test single policy"
   ]
  },
  {
   "cell_type": "code",
   "execution_count": null,
   "metadata": {},
   "outputs": [],
   "source": [
    "N_rounds = 1000\n",
    "N_objects = 100\n",
    "N_bidders = 130\n",
    "\n",
    "budgets = np.array([  30.,   50.,   80.,  100.,  120.,  200.,  300.,  500., 1000.])\n",
    "budgets_p = np.ones(9)/9\n",
    "budgets_init = np.array([np.random.choice(budgets, p=budgets_p) for _ in range(N_bidders)])\n",
    "\n",
    "fees = np.array([0, 0.3, 0.36, 0.68])\n",
    "fees_p = np.array([0.36, 0.14, 0.30, 0.2])\n",
    "fees_init = np.array([np.random.choice(fees, p=fees_p) for i in range(N_objects)])\n",
    "\n",
    "throttling = Throttling(N_rounds, budgets_init, planning='uniform', probability='linear',\n",
    "                        probability_kwargs={'floor': 0.})"
   ]
  },
  {
   "cell_type": "code",
   "execution_count": null,
   "metadata": {},
   "outputs": [],
   "source": [
    "auctioned_objects = np.array([AuctionedObject(i, 2, np.inf, fee=fees_init[i]) for i in range(N_objects)])\n",
    "auctioneer = Auctioneer(auctioned_objects)\n",
    "bidders = np.array([SimpleBidder(budget=budgets_init[i]) for i in range(N_bidders)])\n",
    "\n",
    "house = AuctionHouse(N_rounds, \n",
    "                     auctioneer, \n",
    "                     bidders, \n",
    "                     rp_policy=None,\n",
    "                     throttling=throttling\n",
    "                    )\n",
    "\n",
    "house.run()"
   ]
  },
  {
   "cell_type": "code",
   "execution_count": null,
   "metadata": {},
   "outputs": [],
   "source": [
    "df = house.bidder_tracker.make_dataframe()"
   ]
  },
  {
   "cell_type": "code",
   "execution_count": null,
   "metadata": {},
   "outputs": [],
   "source": [
    "df['bids'].mean(axis=1).rolling(10).mean().plot()"
   ]
  },
  {
   "cell_type": "markdown",
   "metadata": {},
   "source": [
    "## test multiple policies"
   ]
  },
  {
   "cell_type": "code",
   "execution_count": null,
   "metadata": {},
   "outputs": [],
   "source": [
    "def test_policy(throttling, fees_init, budgets_init):\n",
    "    auctioned_objects = np.array([AuctionedObject(i, 1, np.inf, fee=fees_init[i]) for i in range(N_objects)])\n",
    "    auctioneer = Auctioneer(auctioned_objects)\n",
    "    bidders = np.array([SimpleBidder(budget=budgets_init[i]) for i in range(N_bidders)])\n",
    "\n",
    "    house = AuctionHouse(N_rounds, \n",
    "                         auctioneer, \n",
    "                         bidders, \n",
    "                         rp_policy=None,\n",
    "                         throttling=throttling,\n",
    "                        )\n",
    "\n",
    "    for i in range(N_rounds):\n",
    "        obj_id = house.select_object_to_sell()\n",
    "        house.sell_object(obj_id)\n",
    "        \n",
    "    return house"
   ]
  },
  {
   "cell_type": "code",
   "execution_count": null,
   "metadata": {},
   "outputs": [],
   "source": [
    "N_rounds = 1000\n",
    "N_objects = 100\n",
    "N_bidders = 130\n",
    "\n",
    "budgets = np.array([30, 50, 80])\n",
    "budgets_p = np.array([0.4, 0.4, 0.2])\n",
    "budgets_init = np.array([np.random.choice(budgets, p=budgets_p) for _ in range(N_bidders)])\n",
    "\n",
    "fees = np.array([0, 0.3, 0.7])\n",
    "fees_p = np.array([0.5, 0.25, 0.25])\n",
    "fees_init = np.array([np.random.choice(fees, p=fees_p) for i in range(N_objects)])\n",
    "\n",
    "uniform_throttling = Throttling(N_rounds, budgets_init)\n",
    "sigmoid_throttling1 = Throttling(N_rounds, budgets_init, planning='sigmoid', planning_kwargs={'s':1, 't0':0.5})\n",
    "sigmoid_throttling2 = Throttling(N_rounds, budgets_init, planning='sigmoid', planning_kwargs={'s':1, 't0':1})\n",
    "\n",
    "throttling_policies = [uniform_throttling, sigmoid_throttling1, sigmoid_throttling2]\n",
    "N_policies = len(throttling_policies)"
   ]
  },
  {
   "cell_type": "code",
   "execution_count": null,
   "metadata": {},
   "outputs": [],
   "source": [
    "%%time\n",
    "N_days = 200\n",
    "revenues_data = np.zeros((N_days, N_policies))\n",
    "fees_paid_data = np.zeros((N_days, N_policies))\n",
    "\n",
    "for thr, throttling in enumerate(throttling_policies):\n",
    "    print('testing policy ', thr)\n",
    "    for d in range(N_days):\n",
    "        house = test_policy(throttling, fees_init, budgets_init)\n",
    "        revenues_data[d, thr] = house.auctioneer.revenue\n",
    "        fees_paid_data[d, thr] = house.auctioneer.fees_paid"
   ]
  },
  {
   "cell_type": "code",
   "execution_count": null,
   "metadata": {},
   "outputs": [],
   "source": [
    "throttling.total_probability??"
   ]
  },
  {
   "cell_type": "code",
   "execution_count": null,
   "metadata": {},
   "outputs": [],
   "source": [
    "revenues_data.mean(axis=0).round(2)"
   ]
  },
  {
   "cell_type": "code",
   "execution_count": null,
   "metadata": {},
   "outputs": [],
   "source": [
    "fees_paid_data.mean(axis=0).round(2)"
   ]
  },
  {
   "cell_type": "markdown",
   "metadata": {},
   "source": [
    "# Fees reduction by dynamic reserve price"
   ]
  },
  {
   "cell_type": "code",
   "execution_count": null,
   "metadata": {},
   "outputs": [],
   "source": [
    "import numpy as np\n",
    "import pandas as pd\n",
    "import matplotlib.pyplot as plt\n",
    "from scipy import stats\n",
    "import seaborn as sns\n",
    "\n",
    "from Auction_simulator.agents import AuctionedObject, Auctioneer, SimpleBidder, AuctionHouse\n",
    "from Auction_simulator.trackers import AuctionTracker, BidderTracker\n",
    "from Auction_simulator.auction_types import SecondPriceAuction"
   ]
  },
  {
   "cell_type": "code",
   "execution_count": null,
   "metadata": {},
   "outputs": [],
   "source": [
    "def rp_fees1(house):\n",
    "    if house.auctioned_object.fee > 0:\n",
    "        return np.mean([house.second_bid, house.winning_bid])\n",
    "    else:\n",
    "        return house.auctioneer.x0\n",
    "    \n",
    "def rp_fees2(house):\n",
    "    fee = house.auctioned_object.fee\n",
    "    r = fee*house.winning_bid + (1-fee)*house.second_bid\n",
    "    return r \n",
    "    \n",
    "def rp_fees3(house):\n",
    "    fee = house.auctioned_object.fee\n",
    "    r = fee*np.mean([house.winning_bid + house.second_bid]) + (1-fee)*house.auctioneer.x0\n",
    "    return r "
   ]
  },
  {
   "cell_type": "code",
   "execution_count": null,
   "metadata": {},
   "outputs": [],
   "source": [
    "def test_policy(rp_policy, fees_init, budgets_init):\n",
    "\n",
    "    auctioned_objects = np.array([AuctionedObject(i, 1, np.inf, fee=fees_init[i]) for i in range(N_objects)])\n",
    "    auctioneer = Auctioneer(auctioned_objects, x0=1)\n",
    "    bidders = np.array([SimpleBidder(budget=budgets_init[i]) for i in range(N_bidders)])\n",
    "\n",
    "    auction_tracker = AuctionTracker(N_rounds)\n",
    "    bidder_tracker = BidderTracker(N_rounds, N_bidders, N_objects)\n",
    "    house = AuctionHouse(auctioneer, bidders, \n",
    "                         rp_policy = rp_fees1,\n",
    "                         auction_tracker=auction_tracker,\n",
    "                         bidder_tracker=bidder_tracker\n",
    "                        )\n",
    "\n",
    "    for i in range(N_rounds):\n",
    "        obj_id = house.select_object_to_sell()\n",
    "        house.sell_object(obj_id)\n",
    "        \n",
    "    return house"
   ]
  },
  {
   "cell_type": "code",
   "execution_count": null,
   "metadata": {},
   "outputs": [],
   "source": [
    "N_rounds = 1000\n",
    "N_objects = 100\n",
    "N_bidders = 130\n",
    "\n",
    "budgets = np.array([30, 50, 80])\n",
    "budgets_p = np.array([0.4, 0.4, 0.2])\n",
    "budgets_init = np.array([np.random.choice(budgets, p=budgets_p) for _ in range(N_bidders)])\n",
    "\n",
    "fees = np.array([0, 0.3, 0.7])\n",
    "fees_p = np.array([0.5, 0.25, 0.25])\n",
    "fees_init = np.array([np.random.choice(fees, p=fees_p) for i in range(N_objects)])"
   ]
  },
  {
   "cell_type": "code",
   "execution_count": null,
   "metadata": {},
   "outputs": [],
   "source": [
    "%%time\n",
    "\n",
    "rp_policies = [None, rp_fees1, rp_fees2, rp_fees3]\n",
    "rp_policies = [None]\n",
    "N_policies = len(rp_policies)\n",
    "N_days = 1\n",
    "revenues_data = np.zeros((N_days, N_policies))\n",
    "fees_paid_data = np.zeros((N_days, N_policies))\n",
    "\n",
    "for rp, rp_policy in enumerate(rp_policies):\n",
    "    print('testing policy ', rp)\n",
    "    for d in range(N_days):\n",
    "        house = test_policy(rp_policy, fees_init, budgets_init)\n",
    "        revenues_data[d, rp] = house.auctioneer.revenue\n",
    "        fees_paid_data[d, rp] = house.auctioneer.fees_paid"
   ]
  },
  {
   "cell_type": "code",
   "execution_count": null,
   "metadata": {},
   "outputs": [],
   "source": [
    "revenues_data.mean(axis=0).round(2)"
   ]
  },
  {
   "cell_type": "code",
   "execution_count": null,
   "metadata": {},
   "outputs": [],
   "source": [
    "fees_paid_data.mean(axis=0).round(2)"
   ]
  },
  {
   "cell_type": "code",
   "execution_count": null,
   "metadata": {},
   "outputs": [],
   "source": []
  },
  {
   "cell_type": "code",
   "execution_count": null,
   "metadata": {},
   "outputs": [],
   "source": []
  }
 ],
 "metadata": {
  "kernelspec": {
   "display_name": "Python 3",
   "language": "python",
   "name": "python3"
  },
  "language_info": {
   "codemirror_mode": {
    "name": "ipython",
    "version": 3
   },
   "file_extension": ".py",
   "mimetype": "text/x-python",
   "name": "python",
   "nbconvert_exporter": "python",
   "pygments_lexer": "ipython3",
   "version": "3.8.3"
  }
 },
 "nbformat": 4,
 "nbformat_minor": 4
}
