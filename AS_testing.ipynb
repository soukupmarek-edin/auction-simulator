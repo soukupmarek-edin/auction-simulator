{
 "cells": [
  {
   "cell_type": "code",
   "execution_count": 3,
   "metadata": {},
   "outputs": [],
   "source": [
    "import numpy as np\n",
    "\n",
    "from AuctionSimulator.Agents.Sellers import AuctionedObject, Auctioneer\n",
    "from AuctionSimulator.Agents.Bidders import SimpleBidder\n",
    "\n",
    "n_rounds = 1000\n",
    "n_objects = 100\n",
    "n_bidders = 130\n",
    "\n",
    "budgets = np.array([  30.,   50.,   80.,  100.,  120.,  200.,  300.,  500., 1000.])\n",
    "budgets_p = np.ones(9)/9\n",
    "budgets_init = np.array([np.random.choice(budgets, p=budgets_p) for _ in range(N_bidders)])\n",
    "\n",
    "fees = np.array([0, 0.3, 0.36, 0.68])\n",
    "fees_p = np.array([0.36, 0.14, 0.30, 0.2])\n",
    "fees_init = np.array([np.random.choice(fees, p=fees_p) for i in range(n_objects)])\n",
    "\n",
    "auctioned_objects = np.array([AuctionedObject(i, 2.5, np.inf, fee=fees_init[i]) for i in range(N_objects)])\n",
    "auctioneer = Auctioneer(auctioned_objects, x0 = np.ones(N_objects)*0)\n",
    "bidders = np.array([SimpleBidder(budget=budgets_init[i]) for i in range(N_bidders)])"
   ]
  },
  {
   "cell_type": "code",
   "execution_count": 4,
   "metadata": {},
   "outputs": [
    {
     "ename": "TypeError",
     "evalue": "__init__() missing 2 required positional arguments: 'n_rounds' and 'budgets_init'",
     "output_type": "error",
     "traceback": [
      "\u001b[1;31m---------------------------------------------------------------------------\u001b[0m",
      "\u001b[1;31mTypeError\u001b[0m                                 Traceback (most recent call last)",
      "\u001b[1;32m<ipython-input-4-2e910b3961f2>\u001b[0m in \u001b[0;36m<module>\u001b[1;34m\u001b[0m\n\u001b[0;32m      1\u001b[0m \u001b[1;32mfrom\u001b[0m \u001b[0mAuctionSimulator\u001b[0m\u001b[1;33m.\u001b[0m\u001b[0mAuctionHouse\u001b[0m \u001b[1;32mimport\u001b[0m \u001b[0mThrottling\u001b[0m \u001b[1;32mas\u001b[0m \u001b[0mthr\u001b[0m\u001b[1;33m\u001b[0m\u001b[1;33m\u001b[0m\u001b[0m\n\u001b[0;32m      2\u001b[0m \u001b[1;33m\u001b[0m\u001b[0m\n\u001b[1;32m----> 3\u001b[1;33m \u001b[0mthr\u001b[0m\u001b[1;33m.\u001b[0m\u001b[0mPlanning\u001b[0m\u001b[1;33m(\u001b[0m\u001b[1;33m)\u001b[0m\u001b[1;33m\u001b[0m\u001b[1;33m\u001b[0m\u001b[0m\n\u001b[0m",
      "\u001b[1;31mTypeError\u001b[0m: __init__() missing 2 required positional arguments: 'n_rounds' and 'budgets_init'"
     ]
    }
   ],
   "source": [
    "from AuctionSimulator.AuctionHouse import Throttling as thr\n",
    "\n",
    "thr.Planning(n)"
   ]
  },
  {
   "cell_type": "code",
   "execution_count": null,
   "metadata": {},
   "outputs": [],
   "source": [
    "house = Controller(n_rounds, auctioneer, bidders)\n",
    "house.run()\n",
    "\n",
    "house.bidder_tracker.make_dataframe()"
   ]
  },
  {
   "cell_type": "code",
   "execution_count": 9,
   "metadata": {},
   "outputs": [
    {
     "data": {
      "text/plain": [
       "63.485714285714295"
      ]
     },
     "execution_count": 9,
     "metadata": {},
     "output_type": "execute_result"
    }
   ],
   "source": [
    "np.mean([69,70,74,68,57,51,65])*0.8+0.2*58"
   ]
  }
 ],
 "metadata": {
  "kernelspec": {
   "display_name": "Python 3",
   "language": "python",
   "name": "python3"
  },
  "language_info": {
   "codemirror_mode": {
    "name": "ipython",
    "version": 3
   },
   "file_extension": ".py",
   "mimetype": "text/x-python",
   "name": "python",
   "nbconvert_exporter": "python",
   "pygments_lexer": "ipython3",
   "version": "3.8.3"
  }
 },
 "nbformat": 4,
 "nbformat_minor": 4
}
