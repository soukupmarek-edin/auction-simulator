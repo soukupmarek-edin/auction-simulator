{
 "cells": [
  {
   "cell_type": "code",
   "execution_count": 1,
   "metadata": {},
   "outputs": [
    {
     "ename": "ModuleNotFoundError",
     "evalue": "No module named 'AuctionSimulator.Controller.AuctionTypes'",
     "output_type": "error",
     "traceback": [
      "\u001b[1;31m---------------------------------------------------------------------------\u001b[0m",
      "\u001b[1;31mModuleNotFoundError\u001b[0m                       Traceback (most recent call last)",
      "\u001b[1;32m<ipython-input-1-b30110ee35a8>\u001b[0m in \u001b[0;36m<module>\u001b[1;34m\u001b[0m\n\u001b[0;32m      3\u001b[0m \u001b[1;32mfrom\u001b[0m \u001b[0mAuctionSimulator\u001b[0m\u001b[1;33m.\u001b[0m\u001b[0mAgents\u001b[0m\u001b[1;33m.\u001b[0m\u001b[0mAuctionedObject\u001b[0m \u001b[1;32mimport\u001b[0m \u001b[0mAuctionedObject\u001b[0m\u001b[1;33m,\u001b[0m \u001b[0mAuctioneer\u001b[0m\u001b[1;33m\u001b[0m\u001b[1;33m\u001b[0m\u001b[0m\n\u001b[0;32m      4\u001b[0m \u001b[1;32mfrom\u001b[0m \u001b[0mAuctionSimulator\u001b[0m\u001b[1;33m.\u001b[0m\u001b[0mAgents\u001b[0m\u001b[1;33m.\u001b[0m\u001b[0mBidders\u001b[0m \u001b[1;32mimport\u001b[0m \u001b[0mSimpleBidder\u001b[0m\u001b[1;33m\u001b[0m\u001b[1;33m\u001b[0m\u001b[0m\n\u001b[1;32m----> 5\u001b[1;33m \u001b[1;32mfrom\u001b[0m \u001b[0mAuctionSimulator\u001b[0m\u001b[1;33m.\u001b[0m\u001b[0mController\u001b[0m\u001b[1;33m.\u001b[0m\u001b[0mAuctionHouse\u001b[0m \u001b[1;32mimport\u001b[0m \u001b[0mAuctionHouse\u001b[0m\u001b[1;33m\u001b[0m\u001b[1;33m\u001b[0m\u001b[0m\n\u001b[0m\u001b[0;32m      6\u001b[0m \u001b[1;33m\u001b[0m\u001b[0m\n\u001b[0;32m      7\u001b[0m \u001b[0mn_bidders\u001b[0m \u001b[1;33m=\u001b[0m \u001b[1;36m10\u001b[0m\u001b[1;33m\u001b[0m\u001b[1;33m\u001b[0m\u001b[0m\n",
      "\u001b[1;32m~\\PycharmProjects\\AuctionSimulator\\Controller\\AuctionHouse.py\u001b[0m in \u001b[0;36m<module>\u001b[1;34m\u001b[0m\n\u001b[0;32m      1\u001b[0m \u001b[1;32mimport\u001b[0m \u001b[0mnumpy\u001b[0m \u001b[1;32mas\u001b[0m \u001b[0mnp\u001b[0m\u001b[1;33m\u001b[0m\u001b[1;33m\u001b[0m\u001b[0m\n\u001b[1;32m----> 2\u001b[1;33m \u001b[1;32mfrom\u001b[0m \u001b[1;33m.\u001b[0m\u001b[0mAuctionTypes\u001b[0m\u001b[1;33m.\u001b[0m\u001b[0mStandardAuctions\u001b[0m \u001b[1;32mimport\u001b[0m \u001b[0mFirstPriceAuction\u001b[0m\u001b[1;33m,\u001b[0m \u001b[0mSecondPriceAuction\u001b[0m\u001b[1;33m\u001b[0m\u001b[1;33m\u001b[0m\u001b[0m\n\u001b[0m\u001b[0;32m      3\u001b[0m \u001b[1;32mfrom\u001b[0m \u001b[1;33m.\u001b[0m\u001b[0mAnalysis\u001b[0m\u001b[1;33m.\u001b[0m\u001b[0mTrackers\u001b[0m \u001b[1;32mimport\u001b[0m \u001b[0mAuctionTracker\u001b[0m\u001b[1;33m,\u001b[0m \u001b[0mBidderTracker\u001b[0m\u001b[1;33m\u001b[0m\u001b[1;33m\u001b[0m\u001b[0m\n\u001b[0;32m      4\u001b[0m \u001b[1;33m\u001b[0m\u001b[0m\n\u001b[0;32m      5\u001b[0m \u001b[1;33m\u001b[0m\u001b[0m\n",
      "\u001b[1;31mModuleNotFoundError\u001b[0m: No module named 'AuctionSimulator.Controller.AuctionTypes'"
     ]
    }
   ],
   "source": [
    "import numpy as np\n",
    "\n",
    "from AuctionSimulator.Agents.AuctionedObject import AuctionedObject, Auctioneer\n",
    "from AuctionSimulator.Agents.Bidders import SimpleBidder\n",
    "from AuctionSimulator.Controller.AuctionHouse import AuctionHouse\n",
    "\n",
    "n_bidders = 10\n",
    "bidders = np.array([SimpleBidder() for _ in range(n_bidders)])\n",
    "\n",
    "n_objects = 10\n",
    "auctioned_objects = np.array([AuctionedObject(0, 1) for i in range(n_objects)])\n",
    "auctioneer = Auctioneer(auctioned_objects)\n",
    "\n",
    "n_rounds = 10\n",
    "house = AuctionHouse(n_rounds, auctioneer, bidders)\n",
    "house.run()"
   ]
  },
  {
   "cell_type": "code",
   "execution_count": null,
   "metadata": {},
   "outputs": [],
   "source": [
    "house.bidder_tracker.make_dataframe()"
   ]
  },
  {
   "cell_type": "code",
   "execution_count": null,
   "metadata": {},
   "outputs": [],
   "source": []
  },
  {
   "cell_type": "code",
   "execution_count": null,
   "metadata": {},
   "outputs": [],
   "source": []
  }
 ],
 "metadata": {
  "kernelspec": {
   "display_name": "Python 3",
   "language": "python",
   "name": "python3"
  },
  "language_info": {
   "codemirror_mode": {
    "name": "ipython",
    "version": 3
   },
   "file_extension": ".py",
   "mimetype": "text/x-python",
   "name": "python",
   "nbconvert_exporter": "python",
   "pygments_lexer": "ipython3",
   "version": "3.8.3"
  }
 },
 "nbformat": 4,
 "nbformat_minor": 4
}
