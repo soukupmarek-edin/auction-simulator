{
 "cells": [
  {
   "cell_type": "code",
   "execution_count": 1,
   "metadata": {},
   "outputs": [],
   "source": [
    "import numpy as np\n",
    "import matplotlib.pyplot as plt"
   ]
  },
  {
   "cell_type": "markdown",
   "metadata": {},
   "source": [
    "# Initialize the auction"
   ]
  },
  {
   "cell_type": "code",
   "execution_count": 2,
   "metadata": {},
   "outputs": [],
   "source": [
    "N_rounds = 1000\n",
    "N_objects = 100\n",
    "N_bidders = 130\n",
    "\n",
    "budgets = np.array([30, 50, 80])\n",
    "budgets_p = np.array([0.4, 0.4, 0.2])\n",
    "budgets_init = np.array([np.random.choice(budgets, p=budgets_p) for _ in range(N_bidders)])\n",
    "\n",
    "fees = np.array([0, 0.3, 0.7])\n",
    "fees_p = np.array([0.5, 0.25, 0.25])\n",
    "fees_init = np.array([np.random.choice(fees, p=fees_p) for i in range(N_objects)])"
   ]
  },
  {
   "cell_type": "code",
   "execution_count": 3,
   "metadata": {},
   "outputs": [],
   "source": [
    "from Auction_simulator.agents import AuctionedObject, Auctioneer, AuctionHouse, SimpleBidder\n",
    "from Auction_simulator.trackers import AuctionTracker, BidderTracker"
   ]
  },
  {
   "cell_type": "markdown",
   "metadata": {},
   "source": [
    "## Testing run\n",
    "\n",
    "I will use the SimpleBidder agent, who bids a random value drawn from normal distribution with mean equal to the quality of the auctioned object and variance equal to one. The pattern I want to generate is budget exhaustion: the bids value desclines throughout the day, because bidders deplete their budgets completely and they cannot participate in the auction anymore. At the end of the day, all budgets are exhausted."
   ]
  },
  {
   "cell_type": "code",
   "execution_count": 4,
   "metadata": {},
   "outputs": [],
   "source": [
    "auctioned_objects = np.array([AuctionedObject(i, 1, np.inf, fee=fees_init[i]) for i in range(N_objects)])\n",
    "auctioneer = Auctioneer(auctioned_objects, x0=5)\n",
    "bidders = np.array([SimpleBidder(budget=budgets_init[i]) for i in range(N_bidders)])\n",
    "\n",
    "house = AuctionHouse(N_rounds, auctioneer, bidders)\n",
    "\n",
    "house.run()"
   ]
  },
  {
   "cell_type": "code",
   "execution_count": 11,
   "metadata": {},
   "outputs": [
    {
     "data": {
      "text/plain": [
       "<matplotlib.axes._subplots.AxesSubplot at 0x2af04f456d0>"
      ]
     },
     "execution_count": 11,
     "metadata": {},
     "output_type": "execute_result"
    },
    {
     "data": {
      "image/png": "[encoded data removed]",
      "text/plain": [
       "<Figure size 432x288 with 1 Axes>"
      ]
     },
     "metadata": {
      "needs_background": "light"
     },
     "output_type": "display_data"
    }
   ],
   "source": [
    "house.bidder_tracker.make_dataFrame()['bids'].mean(axis=1).plot()"
   ]
  },
  {
   "cell_type": "markdown",
   "metadata": {},
   "source": [
    "# Testing various policies\n",
    "\n",
    "I'll test the following reserve price policies.\n",
    "\n",
    "- baseline: $r=x_0$.\n",
    "- Policy 0: If there's a fee paid for the object, it is not sold. With no fee, $r=x_0$.\n",
    "- Policy 1: If there's a fee, $r = \\frac{b_1+b_2}{2}$. Otherwise, $r=x_0$.\n",
    "- Policy 2: $r=\\phi b_1 + (1-\\phi)b_2$.\n",
    "- Policy 3: $r=\\phi b_1 + (1-\\phi)x_0$.\n",
    "- Policy 4: $r=\\phi \\frac{b_1+b_2}{2}+(1-\\phi)x_0$.\n",
    "- Policy 5: $r=\\phi b_2 + (1-\\phi)x_0$."
   ]
  },
  {
   "cell_type": "code",
   "execution_count": 12,
   "metadata": {},
   "outputs": [],
   "source": [
    "def rp_fees0(house):\n",
    "    if house.auctioned_object.fee > 0:\n",
    "        return 1e3\n",
    "    else:\n",
    "        return house.auctioneer.x0\n",
    "\n",
    "def rp_fees1(house):\n",
    "    if house.auctioned_object.fee > 0:\n",
    "        return np.mean([house.second_bid, house.winning_bid])\n",
    "    else:\n",
    "        return house.auctioneer.x0\n",
    "    \n",
    "def rp_fees2(house):\n",
    "    fee = house.auctioned_object.fee\n",
    "    r = fee*house.winning_bid + (1-fee)*house.second_bid\n",
    "    return r \n",
    "\n",
    "def rp_fees3(house):\n",
    "    fee = house.auctioned_object.fee\n",
    "    r = fee*house.winning_bid + (1-fee)*house.auctionner.x0\n",
    "    return r \n",
    "    \n",
    "def rp_fees4(house):\n",
    "    fee = house.auctioned_object.fee\n",
    "    r = fee*np.mean([house.winning_bid, house.second_bid]) + (1-fee)*house.auctioneer.x0\n",
    "    return r \n",
    "\n",
    "def rp_fees5(house):\n",
    "    fee = house.auctioned_object.fee\n",
    "    r = fee*house.second_bid + (1-fee)*house.auctionner.x0\n",
    "    return r "
   ]
  },
  {
   "cell_type": "code",
   "execution_count": 13,
   "metadata": {},
   "outputs": [],
   "source": [
    "def test_policy(rp_policy, fees_init, budgets_init):\n",
    "\n",
    "    auctioned_objects = np.array([AuctionedObject(i, 1, np.inf, fee=fees_init[i]) for i in range(N_objects)])\n",
    "    auctioneer = Auctioneer(auctioned_objects, x0=1)\n",
    "    bidders = np.array([SimpleBidder(budget=budgets_init[i]) for i in range(N_bidders)])\n",
    "\n",
    "    house = AuctionHouse(N_rounds, auctioneer, bidders, \n",
    "                         rp_policy = rp_policy\n",
    "                        )\n",
    "\n",
    "    house.run()\n",
    "        \n",
    "    return house"
   ]
  },
  {
   "cell_type": "code",
   "execution_count": 14,
   "metadata": {},
   "outputs": [
    {
     "name": "stdout",
     "output_type": "stream",
     "text": [
      "testing policy  0\n",
      "testing policy  1\n",
      "testing policy  2\n",
      "testing policy  3\n",
      "testing policy  4\n",
      "testing policy  5\n",
      "testing policy  6\n",
      "Wall time: 27min 41s\n"
     ]
    }
   ],
   "source": [
    "%%time\n",
    "\n",
    "rp_policies = [None, rp_fees0, rp_fees1, rp_fees2, rp_fees3, rp_fees4, rp_fees5]\n",
    "N_policies = len(rp_policies)\n",
    "N_days = 200\n",
    "revenues_data = np.zeros((N_days, N_policies))\n",
    "fees_paid_data = np.zeros((N_days, N_policies))\n",
    "\n",
    "for rp, rp_policy in enumerate(rp_policies):\n",
    "    print('testing policy ', rp)\n",
    "    for d in range(N_days):\n",
    "        house = test_policy(rp_policy, fees_init, budgets_init)\n",
    "        revenues_data[d, rp] = house.auctioneer.revenue\n",
    "        fees_paid_data[d, rp] = house.auctioneer.fees_paid"
   ]
  },
  {
   "cell_type": "code",
   "execution_count": 15,
   "metadata": {},
   "outputs": [
    {
     "data": {
      "text/plain": [
       "array([4369.28, 3759.27, 4623.98, 4271.06, 4361.48, 4402.3 , 4373.45])"
      ]
     },
     "execution_count": 15,
     "metadata": {},
     "output_type": "execute_result"
    }
   ],
   "source": [
    "revenues_data.mean(axis=0).round(2)"
   ]
  },
  {
   "cell_type": "code",
   "execution_count": 16,
   "metadata": {},
   "outputs": [
    {
     "data": {
      "text/plain": [
       "array([1516.56,    0.  , 1226.68, 1292.36, 1524.1 , 1484.84, 1512.54])"
      ]
     },
     "execution_count": 16,
     "metadata": {},
     "output_type": "execute_result"
    }
   ],
   "source": [
    "fees_paid_data.mean(axis=0).round(2)"
   ]
  },
  {
   "cell_type": "code",
   "execution_count": null,
   "metadata": {},
   "outputs": [],
   "source": []
  }
 ],
 "metadata": {
  "kernelspec": {
   "display_name": "Python 3",
   "language": "python",
   "name": "python3"
  },
  "language_info": {
   "codemirror_mode": {
    "name": "ipython",
    "version": 3
   },
   "file_extension": ".py",
   "mimetype": "text/x-python",
   "name": "python",
   "nbconvert_exporter": "python",
   "pygments_lexer": "ipython3",
   "version": "3.8.3"
  }
 },
 "nbformat": 4,
 "nbformat_minor": 4
}
